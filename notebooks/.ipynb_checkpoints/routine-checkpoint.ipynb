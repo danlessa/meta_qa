{
 "cells": [
  {
   "cell_type": "markdown",
   "metadata": {},
   "source": [
    "# Routine QA notebook\n",
    "\n",
    "This notebook generates an quick table detailing why the QA operations went wrong. Just run everything and open the generated file.\n",
    "\n",
    "Danilo Lessa Bernardineli"
   ]
  },
  {
   "cell_type": "markdown",
   "metadata": {},
   "source": [
    "## Dependences"
   ]
  },
  {
   "cell_type": "code",
   "execution_count": 1,
   "metadata": {},
   "outputs": [],
   "source": [
    "import sys\n",
    "sys.path.append(\"..\")"
   ]
  },
  {
   "cell_type": "code",
   "execution_count": 2,
   "metadata": {},
   "outputs": [],
   "source": [
    "import numpy as np\n",
    "import pandas as pd\n",
    "import time\n",
    "\n",
    "from meta_qa.integrations import BigQueryIntegration\n",
    "from meta_qa.tools import run_qa_pipeline"
   ]
  },
  {
   "cell_type": "markdown",
   "metadata": {},
   "source": [
    "## QA pipeline execution"
   ]
  },
  {
   "cell_type": "code",
   "execution_count": 31,
   "metadata": {},
   "outputs": [],
   "source": [
    "def dict_test(cell):\n",
    "    \n",
    "    if type(cell) is dict:\n",
    "        return True\n",
    "    return False"
   ]
  },
  {
   "cell_type": "code",
   "execution_count": 32,
   "metadata": {},
   "outputs": [
    {
     "name": "stdout",
     "output_type": "stream",
     "text": [
      "New pandarallel memory created - Size: 2000 MB\n",
      "Pandarallel will run on 512 workers\n"
     ]
    }
   ],
   "source": [
    "integration = BigQueryIntegration(\"idwall-data\", \"dw_idwall\")\n",
    "\n",
    "time1 = time.time()\n",
    "qa_output = run_qa_pipeline(integration, n_workers=512)\n",
    "time2 = time.time()"
   ]
  },
  {
   "cell_type": "markdown",
   "metadata": {},
   "source": [
    "## Visualization"
   ]
  },
  {
   "cell_type": "code",
   "execution_count": 33,
   "metadata": {},
   "outputs": [
    {
     "name": "stdout",
     "output_type": "stream",
     "text": [
      "Ran 301 operations at 20.0s.\n",
      "83% OK and 17% FAILED.\n"
     ]
    }
   ],
   "source": [
    "delta_t = time2 - time1\n",
    "tests_data = qa_output[\"result\"]\n",
    "raw_tests_data = qa_output[\"raw_result\"]\n",
    "operation_tests = raw_tests_data.applymap(dict_test)\n",
    "stacked_operations = (pd.DataFrame(raw_tests_data[operation_tests].stack()\n",
    "                                                                  .dropna())[0]\n",
    "                        .apply(pd.Series))\n",
    "n_total = stacked_operations.result.count()\n",
    "n_ok = stacked_operations.result.sum() / n_total * 100\n",
    "n_fail = 100 - n_ok\n",
    "text = \"Ran {} operations at {:.1f}s.\\n{:.0f}% OK and {:.0f}% FAILED.\".format(n_total,\n",
    "                                                                       delta_t,\n",
    "                                                                       n_ok,\n",
    "                                                                       n_fail)\n",
    "print(text)"
   ]
  },
  {
   "cell_type": "code",
   "execution_count": 34,
   "metadata": {},
   "outputs": [],
   "source": [
    "failed_operations = stacked_operations.where(lambda df: df[\"result\"] == False).dropna()"
   ]
  },
  {
   "cell_type": "markdown",
   "metadata": {},
   "source": [
    "### Generate an HTML page for seeing what went wrong"
   ]
  },
  {
   "cell_type": "code",
   "execution_count": 29,
   "metadata": {},
   "outputs": [],
   "source": [
    "pd.set_option('colheader_justify', 'center')   # FOR TABLE <th>\n",
    "\n",
    "html_string = '''\n",
    "<html>\n",
    "  <head><title>HTML Pandas Dataframe with CSS</title></head>\n",
    "  <link rel=\"stylesheet\" type=\"text/css\" href=\"style.css\"/>\n",
    "  <body>\n",
    "    {table}\n",
    "  </body>\n",
    "</html>.\n",
    "'''\n",
    "\n",
    "# OUTPUT AN HTML FILE\n",
    "with open('teste.html', 'w') as f:\n",
    "    f.write(html_string.format(table=failed_operations.to_html(classes='dataframe')))"
   ]
  },
  {
   "cell_type": "code",
   "execution_count": 36,
   "metadata": {},
   "outputs": [],
   "source": [
    "# Or an excel file\n",
    "stacked_operations.to_excel(\"teste.xls\")"
   ]
  },
  {
   "cell_type": "code",
   "execution_count": null,
   "metadata": {},
   "outputs": [],
   "source": []
  }
 ],
 "metadata": {
  "kernelspec": {
   "display_name": "Python 3",
   "language": "python",
   "name": "python3"
  },
  "language_info": {
   "codemirror_mode": {
    "name": "ipython",
    "version": 3
   },
   "file_extension": ".py",
   "mimetype": "text/x-python",
   "name": "python",
   "nbconvert_exporter": "python",
   "pygments_lexer": "ipython3",
   "version": "3.6.8"
  }
 },
 "nbformat": 4,
 "nbformat_minor": 2
}
