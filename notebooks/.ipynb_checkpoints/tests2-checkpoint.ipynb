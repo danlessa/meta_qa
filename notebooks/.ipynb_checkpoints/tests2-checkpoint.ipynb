{
 "cells": [
  {
   "cell_type": "code",
   "execution_count": 1,
   "metadata": {},
   "outputs": [],
   "source": [
    "import sys\n",
    "sys.path.append(\"..\")"
   ]
  },
  {
   "cell_type": "code",
   "execution_count": 2,
   "metadata": {},
   "outputs": [],
   "source": [
    "import numpy as np\n",
    "import pandas as pd\n",
    "import time"
   ]
  },
  {
   "cell_type": "code",
   "execution_count": 3,
   "metadata": {},
   "outputs": [],
   "source": [
    "from meta_qa.integrations import BigQueryIntegration\n",
    "from meta_qa.tools import run_qa_pipeline\n",
    "from meta_qa.tools import generate_documentation\n",
    "from meta_qa.tools import generate_tests_report"
   ]
  },
  {
   "cell_type": "code",
   "execution_count": 4,
   "metadata": {},
   "outputs": [],
   "source": [
    "integration = BigQueryIntegration(\"idwall-data\", \"dw_idwall\")"
   ]
  },
  {
   "cell_type": "code",
   "execution_count": 5,
   "metadata": {},
   "outputs": [
    {
     "name": "stderr",
     "output_type": "stream",
     "text": [
      "/home/danilo.lessa/.local/lib/python3.6/site-packages/google/auth/_default.py:66: UserWarning: Your application has authenticated using end user credentials from Google Cloud SDK. We recommend that most server applications use service accounts instead. If your application continues to use end user credentials from Cloud SDK, you might receive a \"quota exceeded\" or \"API not enabled\" error. For more information about service accounts, see https://cloud.google.com/docs/authentication/\n",
      "  warnings.warn(_CLOUD_SDK_CREDENTIALS_WARNING)\n"
     ]
    },
    {
     "name": "stdout",
     "output_type": "stream",
     "text": [
      "New pandarallel memory created - Size: 2000 MB\n",
      "Pandarallel will run on 512 workers\n",
      "Error: {'result': False, 'raw_result': GenericGBQException('Reason: 400 No matching signature for operator < for argument types: INT64, STRING. Supported signatures: ANY < ANY at [4:15]',), 'operator': 'not_window_percentile_null', 'project_id': 'idwall-data', 'dataset': 'dw_idwall', 'table_name': 'ft_bpo_services', 'column_name': 'sla_doc'} \n",
      "\n",
      "Error: {'result': False, 'raw_result': GenericGBQException('Reason: 400 No matching signature for operator < for argument types: BOOL, STRING. Supported signatures: ANY < ANY at [4:15]',), 'operator': 'not_window_percentile_null', 'project_id': 'idwall-data', 'dataset': 'dw_idwall', 'table_name': 'ft_bpo_services', 'column_name': 'sla_result'} \n",
      "\n",
      "Error: {'result': False, 'raw_result': GenericGBQException('Reason: 400 Name id_user not found inside t2 at [4:80]',), 'operator': 'related_to', 'project_id': 'idwall-data', 'dataset': 'dw_idwall', 'table_name': 'ft_bpo_operations', 'column_name': 'id_user'} \n",
      "Error: {'result': False, 'raw_result': GenericGBQException('Reason: 400 Name id_status_field_audit not found inside t2 at [4:98]',), 'operator': 'related_to', 'project_id': 'idwall-data', 'dataset': 'dw_idwall', 'table_name': 'ft_bpo_fields', 'column_name': 'id_status_field_audit'} \n",
      "\n",
      "\n",
      "Error: {'result': False, 'raw_result': GenericGBQException('Reason: 400 Name id_action_bpo_end not found inside t2 at [4:92]',), 'operator': 'related_to', 'project_id': 'idwall-data', 'dataset': 'dw_idwall', 'table_name': 'ft_bpo_operations', 'column_name': 'id_action_bpo_end'} \n",
      "\n",
      "Error: {'result': False, 'raw_result': GenericGBQException('Reason: 400 No matching signature for operator < for argument types: INT64, STRING. Supported signatures: ANY < ANY at [4:15]',), 'operator': 'not_window_percentile_null', 'project_id': 'idwall-data', 'dataset': 'dw_idwall', 'table_name': 'ft_bpo_operations', 'column_name': 'time_seconds'} \n",
      "Error: {'result': False, 'raw_result': GenericGBQException('Reason: 400 No matching signature for operator < for argument types: INT64, STRING. Supported signatures: ANY < ANY at [4:15]',), 'operator': 'not_window_percentile_null', 'project_id': 'idwall-data', 'dataset': 'dw_idwall', 'table_name': 'ft_bpo_services', 'column_name': 'sla_total'} \n",
      "\n",
      "\n",
      "Error: {'result': False, 'raw_result': GenericGBQException('Reason: 400 No matching signature for operator < for argument types: INT64, STRING. Supported signatures: ANY < ANY at [4:15]',), 'operator': 'not_window_percentile_null', 'project_id': 'idwall-data', 'dataset': 'dw_idwall', 'table_name': 'ft_bpo_services', 'column_name': 'sla_digit'} \n",
      "\n",
      "Error: {'result': False, 'raw_result': GenericGBQException('Reason: 400 No matching signature for operator < for argument types: INT64, STRING. Supported signatures: ANY < ANY at [4:15]',), 'operator': 'not_window_percentile_null', 'project_id': 'idwall-data', 'dataset': 'dw_idwall', 'table_name': 'ft_bpo_operations', 'column_name': 'end_operation_hour'} \n",
      "\n",
      "Error: {'result': False, 'raw_result': GenericGBQException('Reason: 404 Not found: Table idwall-data:dw_idwall.lk_pipeline_stage_hubspot was not found in location southamerica-east1',), 'operator': 'related_to', 'project_id': 'idwall-data', 'dataset': 'dw_idwall', 'table_name': 'lk_pipeline_stage', 'column_name': 'id_pipeline_stage_hubspot'} \n",
      "\n",
      "Error: {'result': False, 'raw_result': GenericGBQException('Reason: 400 GET https://www.googleapis.com/bigquery/v2/projects/idwall-data/queries/90746bf5-37d9-4827-82ee-9679aa786370?maxResults=0&timeoutMs=900&location=southamerica-east1: division by zero: 0 / 0',), 'operator': 'not_null', 'project_id': 'idwall-data', 'dataset': 'dw_idwall', 'table_name': 'lk_user_cs', 'column_name': 'id_email'} \n",
      "\n",
      "Error: {'result': False, 'raw_result': GenericGBQException('Reason: 400 GET https://www.googleapis.com/bigquery/v2/projects/idwall-data/queries/0fe7a769-d7bb-488d-8690-44014f027ee8?maxResults=0&timeoutMs=900&location=southamerica-east1: division by zero: 0 / 0',), 'operator': 'not_null', 'project_id': 'idwall-data', 'dataset': 'dw_idwall', 'table_name': 'lk_time_day_of_week', 'column_name': 'id_day_of_week'} \n",
      "\n",
      "Error: {'result': False, 'raw_result': GenericGBQException('Reason: 400 GET https://www.googleapis.com/bigquery/v2/projects/idwall-data/queries/ed8b9810-89a8-4c5d-a882-3509cebbceaa?maxResults=0&timeoutMs=900&location=southamerica-east1: division by zero: 0 / 0',), 'operator': 'not_null', 'project_id': 'idwall-data', 'dataset': 'dw_idwall', 'table_name': 'lk_time_date', 'column_name': 'desc_date'} \n",
      "\n",
      "Error: {'result': False, 'raw_result': GenericGBQException('Reason: 400 GET https://www.googleapis.com/bigquery/v2/projects/idwall-data/queries/2fe52504-71cc-471d-add1-4ebb32a1c56c?maxResults=0&timeoutMs=900&location=southamerica-east1: division by zero: 0 / 0',), 'operator': 'not_null', 'project_id': 'idwall-data', 'dataset': 'dw_idwall', 'table_name': 'lk_time_date', 'column_name': 'id_day_of_week'} \n",
      "Error: {'result': False, 'raw_result': GenericGBQException('Reason: 400 GET https://www.googleapis.com/bigquery/v2/projects/idwall-data/queries/d36b381f-5178-4eb6-a30d-0e151b39bff9?maxResults=0&timeoutMs=900&location=southamerica-east1: division by zero: 0 / 0',), 'operator': 'not_null', 'project_id': 'idwall-data', 'dataset': 'dw_idwall', 'table_name': 'lk_user_cs', 'column_name': 'email'} \n",
      "\n",
      "\n",
      "Error: {'result': False, 'raw_result': GenericGBQException('Reason: 400 GET https://www.googleapis.com/bigquery/v2/projects/idwall-data/queries/939c855c-79b6-4036-9135-24a82ae62447?maxResults=0&timeoutMs=900&location=southamerica-east1: division by zero: 0 / 0',), 'operator': 'not_duplicates', 'project_id': 'idwall-data', 'dataset': 'dw_idwall', 'table_name': 'ft_conversation', 'column_name': 'id_conversation'} \n",
      "\n",
      "Error: {'result': False, 'raw_result': GenericGBQException('Reason: 400 GET https://www.googleapis.com/bigquery/v2/projects/idwall-data/queries/04b0aea6-5811-4a0a-9412-abe1fc067f64?maxResults=0&timeoutMs=900&location=southamerica-east1: division by zero: 0 / 0',), 'operator': 'not_null', 'project_id': 'idwall-data', 'dataset': 'dw_idwall', 'table_name': 'lk_time_date', 'column_name': 'id_year'} \n",
      "\n",
      "Error: {'result': False, 'raw_result': GenericGBQException('Reason: 400 GET https://www.googleapis.com/bigquery/v2/projects/idwall-data/queries/ea9442cc-0018-487f-935d-cea09f0267c4?maxResults=0&timeoutMs=900&location=southamerica-east1: division by zero: 0 / 0',), 'operator': 'not_null', 'project_id': 'idwall-data', 'dataset': 'dw_idwall', 'table_name': 'lk_user_cs', 'column_name': 'desc_user'} \n",
      "\n",
      "Error: {'result': False, 'raw_result': GenericGBQException('Reason: 400 GET https://www.googleapis.com/bigquery/v2/projects/idwall-data/queries/74ea9805-089d-42f0-a49b-9c860dcf9eeb?maxResults=0&timeoutMs=900&location=southamerica-east1: division by zero: 0 / 0',), 'operator': 'not_null', 'project_id': 'idwall-data', 'dataset': 'dw_idwall', 'table_name': 'lk_time_date', 'column_name': 'id_month'} \n",
      "\n",
      "Error: {'result': False, 'raw_result': GenericGBQException('Reason: 400 GET https://www.googleapis.com/bigquery/v2/projects/idwall-data/queries/b361b5d5-5b02-44c2-a67e-8e76abb99ae5?maxResults=0&timeoutMs=900&location=southamerica-east1: division by zero: 0 / 0',), 'operator': 'not_null', 'project_id': 'idwall-data', 'dataset': 'dw_idwall', 'table_name': 'lk_time_day_of_week', 'column_name': 'abrev_day_of_week'} \n",
      "\n",
      "Error: {'result': False, 'raw_result': GenericGBQException('Reason: 400 GET https://www.googleapis.com/bigquery/v2/projects/idwall-data/queries/e39be971-86d8-458b-8ec2-f301b2d1ec67?maxResults=0&timeoutMs=900&location=southamerica-east1: division by zero: 3846 / 0',), 'operator': 'related_to', 'project_id': 'idwall-data', 'dataset': 'dw_idwall', 'table_name': 'ft_conversation_detail', 'column_name': 'id_conversation'} \n",
      "\n",
      "Error: {'result': False, 'raw_result': GenericGBQException('Reason: 400 GET https://www.googleapis.com/bigquery/v2/projects/idwall-data/queries/154b3730-98b8-4936-87fa-75bec7cf5ef8?maxResults=0&timeoutMs=900&location=southamerica-east1: division by zero: 624644 / 0',), 'operator': 'related_to', 'project_id': 'idwall-data', 'dataset': 'dw_idwall', 'table_name': 'ft_attempts', 'column_name': 'duration'} \n"
     ]
    },
    {
     "name": "stdout",
     "output_type": "stream",
     "text": [
      "\n",
      "Error: {'result': False, 'raw_result': GenericGBQException('Reason: 400 GET https://www.googleapis.com/bigquery/v2/projects/idwall-data/queries/d7776b07-7de8-465f-afe9-e5930cd21632?maxResults=0&timeoutMs=900&location=southamerica-east1: division by zero: 0 / 0',), 'operator': 'not_null', 'project_id': 'idwall-data', 'dataset': 'dw_idwall', 'table_name': 'ft_conversation', 'column_name': 'id_conversation'} \n",
      "\n",
      "Error: {'result': False, 'raw_result': GenericGBQException('Reason: 400 GET https://www.googleapis.com/bigquery/v2/projects/idwall-data/queries/fa4f3ae3-4ccc-4309-95f0-000312d5e76c?maxResults=0&timeoutMs=900&location=southamerica-east1: division by zero: 0 / 0',), 'operator': 'not_null', 'project_id': 'idwall-data', 'dataset': 'dw_idwall', 'table_name': 'lk_time_date', 'column_name': 'id_date'} \n",
      "\n",
      "Error: {'result': False, 'raw_result': GenericGBQException('Reason: 400 GET https://www.googleapis.com/bigquery/v2/projects/idwall-data/queries/9d6d1e7a-47a9-494a-bd62-e37db7c3e30e?maxResults=0&timeoutMs=900&location=southamerica-east1: division by zero: 0 / 0',), 'operator': 'not_null', 'project_id': 'idwall-data', 'dataset': 'dw_idwall', 'table_name': 'lk_time_day_of_week', 'column_name': 'desc_day_of_week'} \n",
      "\n",
      "Error: {'result': False, 'raw_result': GenericGBQException('Reason: 400 GET https://www.googleapis.com/bigquery/v2/projects/idwall-data/queries/56566eb5-e584-4a00-a1a4-3625aec99fae?maxResults=0&timeoutMs=900&location=southamerica-east1: division by zero: 0 / 0',), 'operator': 'not_null', 'project_id': 'idwall-data', 'dataset': 'dw_idwall', 'table_name': 'lk_user_cs', 'column_name': 'id_user'} \n",
      "\n"
     ]
    }
   ],
   "source": [
    "time1 = time.time()\n",
    "tests_data = run_qa_pipeline(integration, n_workers=512)\n",
    "time2 = time.time()"
   ]
  },
  {
   "cell_type": "code",
   "execution_count": 6,
   "metadata": {},
   "outputs": [
    {
     "name": "stdout",
     "output_type": "stream",
     "text": [
      "36.14424467086792\n"
     ]
    }
   ],
   "source": [
    "print(time2 - time1)"
   ]
  },
  {
   "cell_type": "code",
   "execution_count": 7,
   "metadata": {},
   "outputs": [
    {
     "data": {
      "text/plain": [
       "(248, 9)"
      ]
     },
     "execution_count": 7,
     "metadata": {},
     "output_type": "execute_result"
    }
   ],
   "source": [
    "tests_data.shape"
   ]
  },
  {
   "cell_type": "code",
   "execution_count": 11,
   "metadata": {},
   "outputs": [],
   "source": [
    "tests_data.to_html(\"hehe.html\")"
   ]
  },
  {
   "cell_type": "code",
   "execution_count": null,
   "metadata": {},
   "outputs": [],
   "source": []
  },
  {
   "cell_type": "code",
   "execution_count": null,
   "metadata": {},
   "outputs": [],
   "source": []
  },
  {
   "cell_type": "code",
   "execution_count": null,
   "metadata": {},
   "outputs": [],
   "source": []
  },
  {
   "cell_type": "code",
   "execution_count": null,
   "metadata": {},
   "outputs": [],
   "source": []
  }
 ],
 "metadata": {
  "kernelspec": {
   "display_name": "Python 3",
   "language": "python",
   "name": "python3"
  },
  "language_info": {
   "codemirror_mode": {
    "name": "ipython",
    "version": 3
   },
   "file_extension": ".py",
   "mimetype": "text/x-python",
   "name": "python",
   "nbconvert_exporter": "python",
   "pygments_lexer": "ipython3",
   "version": "3.6.8"
  }
 },
 "nbformat": 4,
 "nbformat_minor": 2
}
