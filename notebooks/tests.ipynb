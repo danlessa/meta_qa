{
 "cells": [
  {
   "cell_type": "code",
   "execution_count": 1,
   "metadata": {},
   "outputs": [],
   "source": [
    "import sys\n",
    "sys.path.append(\"..\")"
   ]
  },
  {
   "cell_type": "code",
   "execution_count": 2,
   "metadata": {},
   "outputs": [],
   "source": [
    "import numpy as np\n",
    "import pandas as pd\n",
    "import time"
   ]
  },
  {
   "cell_type": "code",
   "execution_count": 3,
   "metadata": {},
   "outputs": [],
   "source": [
    "from meta_qa.integrations import BigQueryIntegration\n",
    "from meta_qa.tools import run_qa_pipeline\n",
    "from meta_qa.tools import generate_documentation\n",
    "from meta_qa.tools import generate_tests_report"
   ]
  },
  {
   "cell_type": "code",
   "execution_count": 4,
   "metadata": {},
   "outputs": [],
   "source": [
    "integration = BigQueryIntegration(\"idwall-data\", \"dw_idwall\")"
   ]
  },
  {
   "cell_type": "code",
   "execution_count": 5,
   "metadata": {},
   "outputs": [
    {
     "name": "stderr",
     "output_type": "stream",
     "text": [
      "/home/danilo.lessa/.local/lib/python3.6/site-packages/google/auth/_default.py:66: UserWarning: Your application has authenticated using end user credentials from Google Cloud SDK. We recommend that most server applications use service accounts instead. If your application continues to use end user credentials from Cloud SDK, you might receive a \"quota exceeded\" or \"API not enabled\" error. For more information about service accounts, see https://cloud.google.com/docs/authentication/\n",
      "  warnings.warn(_CLOUD_SDK_CREDENTIALS_WARNING)\n"
     ]
    }
   ],
   "source": [
    "metadata = integration.get_metadata()"
   ]
  },
  {
   "cell_type": "code",
   "execution_count": 19,
   "metadata": {},
   "outputs": [
    {
     "name": "stdout",
     "output_type": "stream",
     "text": [
      "New pandarallel memory created - Size: 2000 MB\n",
      "Pandarallel will run on 512 workers\n"
     ]
    }
   ],
   "source": [
    "time1 = time.time()\n",
    "qa_output = run_qa_pipeline(integration, n_workers=512)\n",
    "time2 = time.time()"
   ]
  },
  {
   "cell_type": "code",
   "execution_count": 21,
   "metadata": {},
   "outputs": [
    {
     "name": "stdout",
     "output_type": "stream",
     "text": [
      "QA pipeline execution time (301 operations): 22.9s\n"
     ]
    }
   ],
   "source": [
    "delta_t = time2 - time1\n",
    "tests_data = qa_output[\"result\"]\n",
    "raw_tests_data = qa_output[\"raw_result\"]\n",
    "n_ops = raw_tests_data.count().sum()\n",
    "text = \"QA pipeline execution time ({} operations): {:.1f}s\".format(n_ops, delta_t)\n",
    "print(text)"
   ]
  },
  {
   "cell_type": "code",
   "execution_count": null,
   "metadata": {},
   "outputs": [],
   "source": []
  },
  {
   "cell_type": "code",
   "execution_count": 22,
   "metadata": {},
   "outputs": [],
   "source": [
    "from jinja2 import Environment, FileSystemLoader, select_autoescape\n",
    "env = Environment(\n",
    "    loader=FileSystemLoader(searchpath='templates'),\n",
    "    autoescape=select_autoescape(['html', 'xml'])\n",
    ")"
   ]
  },
  {
   "cell_type": "code",
   "execution_count": null,
   "metadata": {},
   "outputs": [],
   "source": []
  },
  {
   "cell_type": "code",
   "execution_count": null,
   "metadata": {},
   "outputs": [],
   "source": []
  },
  {
   "cell_type": "markdown",
   "metadata": {},
   "source": [
    "## Schema"
   ]
  },
  {
   "cell_type": "code",
   "execution_count": 23,
   "metadata": {},
   "outputs": [],
   "source": [
    "b = metadata.reset_index()\n",
    "\n",
    "\n",
    "tbl_cols = [\"table_name\", \"table_title\", \"table_ignore\", \"table_description_text\"]\n",
    "\n",
    "\n",
    "projects_data  = b.groupby(\"table_catalog\")\n",
    "\n",
    "projects = []\n",
    "for project_name, project_data in projects_data:\n",
    "    \n",
    "    ds_data = project_data.drop(columns=\"table_catalog\").groupby(\"table_schema\")\n",
    "    datasets = []\n",
    "    \n",
    "    for ds_name, ds_group in ds_data:\n",
    "        tbl_data = ds_group.drop(columns=\"table_schema\").groupby(\"table_name\")\n",
    "        tables = []\n",
    "        for tbl_name, tbl_group in tbl_data:\n",
    "            \n",
    "            col_data = tbl_group.drop(columns=tbl_cols)\n",
    "            tbl_meta = tbl_group.iloc[0][tbl_cols].to_dict()\n",
    "            tbl_element = col_data.to_dict(orient='records')\n",
    "            \n",
    "            headers = []\n",
    "            columns = []\n",
    "            for row in tbl_element:\n",
    "                headers = row.keys()\n",
    "                columns.append(row.values())\n",
    "            \n",
    "            tables.append({**tbl_meta,\n",
    "                            'headers': headers,\n",
    "                            'columns': columns})\n",
    "            \n",
    "        datasets.append({'dataset_name': ds_name,\n",
    "                         'tables': tables})\n",
    "        \n",
    "    projects.append({'project_name': project_name,\n",
    "                     'datasets': datasets})"
   ]
  },
  {
   "cell_type": "code",
   "execution_count": null,
   "metadata": {},
   "outputs": [],
   "source": [
    "template = env.get_template('metadata.html')\n",
    "\n",
    "with open(\"a.html\", \"w\") as fid:\n",
    "    fid.write(template.render(projects=projects))"
   ]
  },
  {
   "cell_type": "markdown",
   "metadata": {},
   "source": [
    "## Tests report"
   ]
  },
  {
   "cell_type": "code",
   "execution_count": null,
   "metadata": {},
   "outputs": [],
   "source": [
    "failed_cells = tests_data.applymap(lambda x: \"False\" in x).astype(bool)"
   ]
  },
  {
   "cell_type": "code",
   "execution_count": null,
   "metadata": {},
   "outputs": [],
   "source": [
    "success_cells = tests_data.applymap(lambda x: \"True\" in x).astype(bool)"
   ]
  },
  {
   "cell_type": "code",
   "execution_count": null,
   "metadata": {},
   "outputs": [],
   "source": [
    "failed_rows = failed_cells.sum(axis=1).astype(bool)"
   ]
  },
  {
   "cell_type": "code",
   "execution_count": null,
   "metadata": {},
   "outputs": [],
   "source": [
    "success_rows = success_cells.sum(axis=1).astype(bool)"
   ]
  },
  {
   "cell_type": "code",
   "execution_count": null,
   "metadata": {},
   "outputs": [],
   "source": [
    "failed_cells_2 = tests_data.copy()\n",
    "failed_cells_2[~failed_cells] = \"\"\n",
    "pd.DataFrame(failed_cells_2.apply(lambda x: x.str.cat(), axis=1)).head(5)"
   ]
  },
  {
   "cell_type": "code",
   "execution_count": null,
   "metadata": {},
   "outputs": [],
   "source": [
    "def fail_function(row):\n",
    "    return \" | \".join(row.loc[row].index)"
   ]
  },
  {
   "cell_type": "code",
   "execution_count": null,
   "metadata": {},
   "outputs": [],
   "source": [
    "failed_table = (pd.DataFrame(failed_cells.apply(fail_function, axis=1))\n",
    "                                         .rename(columns={0: \"failed_asserts\"})\n",
    "                                         .where(lambda x: x[\"failed_asserts\"] != \"\")\n",
    "                                         .dropna())"
   ]
  },
  {
   "cell_type": "code",
   "execution_count": null,
   "metadata": {},
   "outputs": [],
   "source": [
    "success_table = (pd.DataFrame(success_cells.apply(fail_function, axis=1))\n",
    "                                         .rename(columns={0: \"ok_asserts\"})\n",
    "                                         .where(lambda x: x[\"ok_asserts\"] != \"\")\n",
    "                                         .dropna())"
   ]
  },
  {
   "cell_type": "code",
   "execution_count": null,
   "metadata": {},
   "outputs": [],
   "source": [
    "new_table = success_table.join(failed_table).fillna(\"\")"
   ]
  },
  {
   "cell_type": "code",
   "execution_count": null,
   "metadata": {},
   "outputs": [],
   "source": [
    "failed_dataset = failed_table.groupby([\"table_schema\", \"table_name\"]).count()"
   ]
  },
  {
   "cell_type": "code",
   "execution_count": null,
   "metadata": {},
   "outputs": [],
   "source": [
    "failed_table.groupby(\"table_name\")"
   ]
  },
  {
   "cell_type": "code",
   "execution_count": null,
   "metadata": {},
   "outputs": [],
   "source": [
    "tables_summary = []\n",
    "\n"
   ]
  },
  {
   "cell_type": "code",
   "execution_count": null,
   "metadata": {},
   "outputs": [],
   "source": [
    "projects = []\n",
    "for proj_name, proj_group in new_table.groupby([\"table_catalog\"]):\n",
    "    datasets = []\n",
    "    for ds_name, ds_group in new_table.groupby([\"table_schema\"]):\n",
    "        tables = []\n",
    "        ds_error_count = ds_group.where(lambda x: x[\"failed_asserts\"] != \"\").count().values[0]\n",
    "        for table_name, table_group in new_table.groupby([\"table_name\"]):\n",
    "            table_summary = table_group.droplevel([0, 1, 2]).reset_index()\n",
    "            headers = table_summary.columns.tolist()\n",
    "            columns = table_summary.values.tolist()\n",
    "            table_name = table_name\n",
    "            table_error_count = table_group.where(lambda x: x[\"failed_asserts\"] != \"\").count().values[0]\n",
    "            tables.append({\"table_name\": table_name, \n",
    "                           \"error_count\": str(table_error_count),\n",
    "                           \"headers\": headers, \n",
    "                           \"columns\": columns})\n",
    "        datasets.append({\"dataset_name\": ds_name,\n",
    "                         \"error_count\": str(ds_error_count),\n",
    "                         \"tables\": tables})\n",
    "    projects.append({\"project_name\": proj_name, \"datasets\": datasets})"
   ]
  },
  {
   "cell_type": "code",
   "execution_count": null,
   "metadata": {},
   "outputs": [],
   "source": [
    "template = env.get_template('metadata.html')\n",
    "with open(\"b.html\", \"w\") as fid:\n",
    "    fid.write(template.render(projects=projects))"
   ]
  },
  {
   "cell_type": "code",
   "execution_count": null,
   "metadata": {},
   "outputs": [],
   "source": []
  },
  {
   "cell_type": "code",
   "execution_count": null,
   "metadata": {},
   "outputs": [],
   "source": [
    "projects[0][\"datasets\"][0][\"dataset_name\"]"
   ]
  },
  {
   "cell_type": "code",
   "execution_count": null,
   "metadata": {},
   "outputs": [],
   "source": [
    "projects[0][\"datasets\"][0][\"error_count\"]"
   ]
  },
  {
   "cell_type": "code",
   "execution_count": null,
   "metadata": {},
   "outputs": [],
   "source": []
  }
 ],
 "metadata": {
  "kernelspec": {
   "display_name": "Python 3",
   "language": "python",
   "name": "python3"
  },
  "language_info": {
   "codemirror_mode": {
    "name": "ipython",
    "version": 3
   },
   "file_extension": ".py",
   "mimetype": "text/x-python",
   "name": "python",
   "nbconvert_exporter": "python",
   "pygments_lexer": "ipython3",
   "version": "3.6.8"
  }
 },
 "nbformat": 4,
 "nbformat_minor": 2
}
