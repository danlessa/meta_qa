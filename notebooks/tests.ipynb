{
 "cells": [
  {
   "cell_type": "code",
   "execution_count": 1,
   "metadata": {},
   "outputs": [],
   "source": [
    "import sys\n",
    "sys.path.append(\"..\")\n"
   ]
  },
  {
   "cell_type": "code",
   "execution_count": 37,
   "metadata": {},
   "outputs": [],
   "source": [
    "import pickle as pkl\n",
    "import numpy as np\n",
    "import pandas as pd"
   ]
  },
  {
   "cell_type": "code",
   "execution_count": 3,
   "metadata": {},
   "outputs": [],
   "source": [
    "import meta_qa"
   ]
  },
  {
   "cell_type": "code",
   "execution_count": 4,
   "metadata": {},
   "outputs": [],
   "source": [
    "from meta_qa.integrations import BigQueryIntegration"
   ]
  },
  {
   "cell_type": "code",
   "execution_count": 5,
   "metadata": {},
   "outputs": [],
   "source": [
    "bqi = BigQueryIntegration(\"idwall-data\", \"dw_idwall\")"
   ]
  },
  {
   "cell_type": "code",
   "execution_count": 6,
   "metadata": {},
   "outputs": [],
   "source": [
    "#metadata = bqi.get_metadata()"
   ]
  },
  {
   "cell_type": "code",
   "execution_count": 7,
   "metadata": {},
   "outputs": [],
   "source": [
    "#metadata.to_pickle(\"metadata.pkl\")"
   ]
  },
  {
   "cell_type": "code",
   "execution_count": 8,
   "metadata": {},
   "outputs": [],
   "source": [
    "metadata = pd.read_pickle(\"metadata.pkl\")"
   ]
  },
  {
   "cell_type": "code",
   "execution_count": 9,
   "metadata": {},
   "outputs": [],
   "source": [
    "tasks = bqi.get_tasks(metadata)"
   ]
  },
  {
   "cell_type": "code",
   "execution_count": 93,
   "metadata": {},
   "outputs": [],
   "source": [
    "def lambda_test(x):\n",
    "    \n",
    "    location = x.name[0:3]\n",
    "    column_name = x.name[-1]\n",
    "    table_name = \"`{}.{}.{}`\".format(*location)\n",
    "    \n",
    "    column_params = {\"table_name\": table_name,\n",
    "                     \"column_name\": column_name}\n",
    "    \n",
    "    operator = bqi.column_operators(column_params)\n",
    "    \n",
    "    return x.map(operator.function)\n",
    "\n",
    "\n",
    "pipeline_out = tasks.head(5).apply(lambda_test, axis=1)"
   ]
  },
  {
   "cell_type": "code",
   "execution_count": 94,
   "metadata": {},
   "outputs": [
    {
     "data": {
      "text/plain": [
       "{'column_name': 'created',\n",
       " 'location': '`idwall-data.dw_idwall.ft_attempts`',\n",
       " 'operator': 'not_null',\n",
       " 'raw_result': 1.0,\n",
       " 'result': True}"
      ]
     },
     "execution_count": 94,
     "metadata": {},
     "output_type": "execute_result"
    }
   ],
   "source": [
    "pipeline_out.iloc[0][0]"
   ]
  },
  {
   "cell_type": "code",
   "execution_count": 95,
   "metadata": {},
   "outputs": [],
   "source": [
    "pipeline_stack = pipeline_out.stack().droplevel(-1)\n",
    "operators = pipeline_stack.apply(lambda x: x[\"operator\"])"
   ]
  },
  {
   "cell_type": "code",
   "execution_count": 97,
   "metadata": {},
   "outputs": [
    {
     "data": {
      "text/plain": [
       "array(['not_null', 'lower_than', 'not_window_percentile_null',\n",
       "       'larger_than'], dtype=object)"
      ]
     },
     "execution_count": 97,
     "metadata": {},
     "output_type": "execute_result"
    }
   ],
   "source": []
  },
  {
   "cell_type": "code",
   "execution_count": 44,
   "metadata": {},
   "outputs": [],
   "source": [
    "unique_ops = operators.values.flatten()\n",
    "unique_ops = unique_ops[unique_ops != None]\n",
    "unique_ops = np.unique(unique_ops)"
   ]
  },
  {
   "cell_type": "code",
   "execution_count": 170,
   "metadata": {},
   "outputs": [],
   "source": [
    "output = []\n",
    "\n",
    "for operator in operators.unique():\n",
    "    a = (pd.DataFrame(pipeline_stack.where(operators == operator)\n",
    "                                .dropna()).assign(operator=operator)\n",
    "                                          .set_index(\"operator\", append=True)\n",
    "                                          .rename(columns={0: \"result_object\"})\n",
    "                                          .unstack())\n",
    "\n",
    "    a.columns = [operator]\n",
    "    output.append(a)\n",
    "pipeline_result = pd.concat(output, sort=False, axis=1)"
   ]
  },
  {
   "cell_type": "code",
   "execution_count": 169,
   "metadata": {},
   "outputs": [],
   "source": []
  },
  {
   "cell_type": "code",
   "execution_count": 177,
   "metadata": {},
   "outputs": [
    {
     "data": {
      "text/html": [
       "<div>\n",
       "<style scoped>\n",
       "    .dataframe tbody tr th:only-of-type {\n",
       "        vertical-align: middle;\n",
       "    }\n",
       "\n",
       "    .dataframe tbody tr th {\n",
       "        vertical-align: top;\n",
       "    }\n",
       "\n",
       "    .dataframe thead th {\n",
       "        text-align: right;\n",
       "    }\n",
       "</style>\n",
       "<table border=\"1\" class=\"dataframe\">\n",
       "  <thead>\n",
       "    <tr style=\"text-align: right;\">\n",
       "      <th></th>\n",
       "      <th></th>\n",
       "      <th></th>\n",
       "      <th></th>\n",
       "      <th>not_null</th>\n",
       "      <th>lower_than</th>\n",
       "      <th>not_window_percentile_null</th>\n",
       "      <th>larger_than</th>\n",
       "    </tr>\n",
       "    <tr>\n",
       "      <th>table_catalog</th>\n",
       "      <th>table_schema</th>\n",
       "      <th>table_name</th>\n",
       "      <th>column_name</th>\n",
       "      <th></th>\n",
       "      <th></th>\n",
       "      <th></th>\n",
       "      <th></th>\n",
       "    </tr>\n",
       "  </thead>\n",
       "  <tbody>\n",
       "    <tr>\n",
       "      <th rowspan=\"5\" valign=\"top\">idwall-data</th>\n",
       "      <th rowspan=\"5\" valign=\"top\">dw_idwall</th>\n",
       "      <th rowspan=\"5\" valign=\"top\">ft_attempts</th>\n",
       "      <th>created</th>\n",
       "      <td>True (1.0)</td>\n",
       "      <td>True (0)</td>\n",
       "      <td></td>\n",
       "      <td></td>\n",
       "    </tr>\n",
       "    <tr>\n",
       "      <th>created_date</th>\n",
       "      <td>True (1.0)</td>\n",
       "      <td>True (0)</td>\n",
       "      <td></td>\n",
       "      <td></td>\n",
       "    </tr>\n",
       "    <tr>\n",
       "      <th>created_hour</th>\n",
       "      <td>True (1.0)</td>\n",
       "      <td>False (77418)</td>\n",
       "      <td></td>\n",
       "      <td></td>\n",
       "    </tr>\n",
       "    <tr>\n",
       "      <th>end_date</th>\n",
       "      <td></td>\n",
       "      <td></td>\n",
       "      <td></td>\n",
       "      <td>True (0)</td>\n",
       "    </tr>\n",
       "    <tr>\n",
       "      <th>finished</th>\n",
       "      <td></td>\n",
       "      <td></td>\n",
       "      <td>True (0.0)</td>\n",
       "      <td>True (0)</td>\n",
       "    </tr>\n",
       "  </tbody>\n",
       "</table>\n",
       "</div>"
      ],
      "text/plain": [
       "                                                       not_null  \\\n",
       "table_catalog table_schema table_name  column_name                \n",
       "idwall-data   dw_idwall    ft_attempts created       True (1.0)   \n",
       "                                       created_date  True (1.0)   \n",
       "                                       created_hour  True (1.0)   \n",
       "                                       end_date                   \n",
       "                                       finished                   \n",
       "\n",
       "                                                        lower_than  \\\n",
       "table_catalog table_schema table_name  column_name                   \n",
       "idwall-data   dw_idwall    ft_attempts created            True (0)   \n",
       "                                       created_date       True (0)   \n",
       "                                       created_hour  False (77418)   \n",
       "                                       end_date                      \n",
       "                                       finished                      \n",
       "\n",
       "                                                    not_window_percentile_null  \\\n",
       "table_catalog table_schema table_name  column_name                               \n",
       "idwall-data   dw_idwall    ft_attempts created                                   \n",
       "                                       created_date                              \n",
       "                                       created_hour                              \n",
       "                                       end_date                                  \n",
       "                                       finished                     True (0.0)   \n",
       "\n",
       "                                                    larger_than  \n",
       "table_catalog table_schema table_name  column_name               \n",
       "idwall-data   dw_idwall    ft_attempts created                   \n",
       "                                       created_date              \n",
       "                                       created_hour              \n",
       "                                       end_date        True (0)  \n",
       "                                       finished        True (0)  "
      ]
     },
     "execution_count": 177,
     "metadata": {},
     "output_type": "execute_result"
    }
   ],
   "source": [
    "pipeline_result.applymap(lambda x: \"{} ({})\".format(x[\"result\"], x[\"raw_result\"]) if type(x) is dict else \"\")"
   ]
  },
  {
   "cell_type": "code",
   "execution_count": null,
   "metadata": {},
   "outputs": [],
   "source": []
  }
 ],
 "metadata": {
  "kernelspec": {
   "display_name": "Python 3",
   "language": "python",
   "name": "python3"
  },
  "language_info": {
   "codemirror_mode": {
    "name": "ipython",
    "version": 3
   },
   "file_extension": ".py",
   "mimetype": "text/x-python",
   "name": "python",
   "nbconvert_exporter": "python",
   "pygments_lexer": "ipython3",
   "version": "3.6.8"
  }
 },
 "nbformat": 4,
 "nbformat_minor": 2
}
