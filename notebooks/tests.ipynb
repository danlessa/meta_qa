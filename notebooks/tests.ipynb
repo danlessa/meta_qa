{
 "cells": [
  {
   "cell_type": "code",
   "execution_count": 1,
   "metadata": {},
   "outputs": [],
   "source": [
    "import sys\n",
    "sys.path.append(\"..\")"
   ]
  },
  {
   "cell_type": "code",
   "execution_count": 2,
   "metadata": {},
   "outputs": [],
   "source": [
    "import numpy as np\n",
    "import pandas as pd\n",
    "import time"
   ]
  },
  {
   "cell_type": "code",
   "execution_count": 3,
   "metadata": {},
   "outputs": [],
   "source": [
    "from meta_qa.integrations import BigQueryIntegration\n",
    "from meta_qa.tools import run_qa_pipeline\n",
    "from meta_qa.tools import generate_documentation\n",
    "from meta_qa.tools import generate_tests_report"
   ]
  },
  {
   "cell_type": "code",
   "execution_count": 4,
   "metadata": {},
   "outputs": [],
   "source": [
    "integration = BigQueryIntegration(\"idwall-data\", \"dw_idwall\")"
   ]
  },
  {
   "cell_type": "code",
   "execution_count": 5,
   "metadata": {},
   "outputs": [
    {
     "name": "stderr",
     "output_type": "stream",
     "text": [
      "/home/danilo.lessa/.local/lib/python3.6/site-packages/google/auth/_default.py:66: UserWarning: Your application has authenticated using end user credentials from Google Cloud SDK. We recommend that most server applications use service accounts instead. If your application continues to use end user credentials from Cloud SDK, you might receive a \"quota exceeded\" or \"API not enabled\" error. For more information about service accounts, see https://cloud.google.com/docs/authentication/\n",
      "  warnings.warn(_CLOUD_SDK_CREDENTIALS_WARNING)\n"
     ]
    }
   ],
   "source": [
    "metadata = integration.get_metadata()"
   ]
  },
  {
   "cell_type": "code",
   "execution_count": 6,
   "metadata": {},
   "outputs": [
    {
     "name": "stdout",
     "output_type": "stream",
     "text": [
      "New pandarallel memory created - Size: 2000 MB\n",
      "Pandarallel will run on 512 workers\n",
      "Error: {'result': False, 'raw_result': GenericGBQException('Reason: 400 No matching signature for operator < for argument types: INT64, STRING. Supported signatures: ANY < ANY at [4:15]',), 'operator': 'not_window_percentile_null', 'project_id': 'idwall-data', 'dataset': 'dw_idwall', 'table_name': 'ft_bpo_services', 'column_name': 'sla_total'} \n",
      "\n",
      "Error: {'result': False, 'raw_result': GenericGBQException('Reason: 400 Name id_status_field_audit not found inside t2 at [4:98]',), 'operator': 'related_to', 'project_id': 'idwall-data', 'dataset': 'dw_idwall', 'table_name': 'ft_bpo_fields', 'column_name': 'id_status_field_audit'} \n",
      "\n",
      "Error: {'result': False, 'raw_result': GenericGBQException('Reason: 400 Name id_user not found inside t2 at [4:80]',), 'operator': 'related_to', 'project_id': 'idwall-data', 'dataset': 'dw_idwall', 'table_name': 'ft_bpo_operations', 'column_name': 'id_user'} \n",
      "\n",
      "Error: {'result': False, 'raw_result': GenericGBQException('Reason: 400 No matching signature for operator < for argument types: INT64, STRING. Supported signatures: ANY < ANY at [4:15]',), 'operator': 'not_window_percentile_null', 'project_id': 'idwall-data', 'dataset': 'dw_idwall', 'table_name': 'ft_bpo_operations', 'column_name': 'time_seconds'} \n",
      "\n",
      "Error: {'result': False, 'raw_result': GenericGBQException('Reason: 400 No matching signature for operator < for argument types: INT64, STRING. Supported signatures: ANY < ANY at [4:15]',), 'operator': 'not_window_percentile_null', 'project_id': 'idwall-data', 'dataset': 'dw_idwall', 'table_name': 'ft_bpo_operations', 'column_name': 'end_operation_hour'} \n",
      "\n",
      "Error: {'result': False, 'raw_result': GenericGBQException('Reason: 400 Name id_action_bpo_end not found inside t2 at [4:92]',), 'operator': 'related_to', 'project_id': 'idwall-data', 'dataset': 'dw_idwall', 'table_name': 'ft_bpo_operations', 'column_name': 'id_action_bpo_end'} \n",
      "\n",
      "Error: {'result': False, 'raw_result': GenericGBQException('Reason: 400 No matching signature for operator < for argument types: INT64, STRING. Supported signatures: ANY < ANY at [4:15]',), 'operator': 'not_window_percentile_null', 'project_id': 'idwall-data', 'dataset': 'dw_idwall', 'table_name': 'ft_bpo_services', 'column_name': 'sla_doc'} \n",
      "\n",
      "Error: {'result': False, 'raw_result': GenericGBQException('Reason: 400 No matching signature for operator < for argument types: BOOL, STRING. Supported signatures: ANY < ANY at [4:15]',), 'operator': 'not_window_percentile_null', 'project_id': 'idwall-data', 'dataset': 'dw_idwall', 'table_name': 'ft_bpo_services', 'column_name': 'sla_result'} \n",
      "Error: {'result': False, 'raw_result': GenericGBQException('Reason: 400 No matching signature for operator < for argument types: INT64, STRING. Supported signatures: ANY < ANY at [4:15]',), 'operator': 'not_window_percentile_null', 'project_id': 'idwall-data', 'dataset': 'dw_idwall', 'table_name': 'ft_bpo_services', 'column_name': 'sla_digit'} \n",
      "\n",
      "\n",
      "Error: {'result': False, 'raw_result': GenericGBQException('Reason: 404 Not found: Table idwall-data:dw_idwall.lk_pipeline_stage_hubspot was not found in location southamerica-east1',), 'operator': 'related_to', 'project_id': 'idwall-data', 'dataset': 'dw_idwall', 'table_name': 'lk_pipeline_stage', 'column_name': 'id_pipeline_stage_hubspot'} \n",
      "\n",
      "Error: {'result': False, 'raw_result': GenericGBQException('Reason: 400 GET https://www.googleapis.com/bigquery/v2/projects/idwall-data/queries/ddc8cee1-3b88-49a5-803a-f7befcac2009?maxResults=0&timeoutMs=900&location=southamerica-east1: division by zero: 0 / 0',), 'operator': 'not_duplicates', 'project_id': 'idwall-data', 'dataset': 'dw_idwall', 'table_name': 'ft_conversation', 'column_name': 'id_conversation'} \n",
      "\n",
      "Error: {'result': False, 'raw_result': GenericGBQException('Reason: 400 GET https://www.googleapis.com/bigquery/v2/projects/idwall-data/queries/bc96e4f4-5cf1-40b4-9971-90c4525964a0?maxResults=0&timeoutMs=900&location=southamerica-east1: division by zero: 0 / 0',), 'operator': 'not_null', 'project_id': 'idwall-data', 'dataset': 'dw_idwall', 'table_name': 'lk_time_date', 'column_name': 'id_year'} \n",
      "\n",
      "Error: {'result': False, 'raw_result': GenericGBQException('Reason: 400 GET https://www.googleapis.com/bigquery/v2/projects/idwall-data/queries/472e9812-5e4c-4bf8-9cbc-a64c367c8096?maxResults=0&timeoutMs=900&location=southamerica-east1: division by zero: 3846 / 0',), 'operator': 'related_to', 'project_id': 'idwall-data', 'dataset': 'dw_idwall', 'table_name': 'ft_conversation_detail', 'column_name': 'id_conversation'} \n",
      "\n",
      "Error: {'result': False, 'raw_result': GenericGBQException('Reason: 400 GET https://www.googleapis.com/bigquery/v2/projects/idwall-data/queries/f07960fb-f3e5-4511-8ae7-ac2d3b34a709?maxResults=0&timeoutMs=900&location=southamerica-east1: division by zero: 0 / 0',), 'operator': 'not_null', 'project_id': 'idwall-data', 'dataset': 'dw_idwall', 'table_name': 'lk_user_cs', 'column_name': 'desc_user'} \n",
      "\n",
      "Error: {'result': False, 'raw_result': GenericGBQException('Reason: 400 GET https://www.googleapis.com/bigquery/v2/projects/idwall-data/queries/0462a9f8-ef5f-4c74-96d5-d8683ba9f376?maxResults=0&timeoutMs=900&location=southamerica-east1: division by zero: 0 / 0',), 'operator': 'not_null', 'project_id': 'idwall-data', 'dataset': 'dw_idwall', 'table_name': 'lk_time_day_of_week', 'column_name': 'abrev_day_of_week'} \n",
      "\n",
      "Error: {'result': False, 'raw_result': GenericGBQException('Reason: 400 GET https://www.googleapis.com/bigquery/v2/projects/idwall-data/queries/07a96361-990c-4941-bdcf-7483f9284e91?maxResults=0&timeoutMs=900&location=southamerica-east1: division by zero: 0 / 0',), 'operator': 'not_null', 'project_id': 'idwall-data', 'dataset': 'dw_idwall', 'table_name': 'lk_time_date', 'column_name': 'desc_date'} \n",
      "\n",
      "Error: {'result': False, 'raw_result': GenericGBQException('Reason: 400 GET https://www.googleapis.com/bigquery/v2/projects/idwall-data/queries/94d69d44-4dbe-4bed-9bad-bd5cea8ab464?maxResults=0&timeoutMs=900&location=southamerica-east1: division by zero: 0 / 0',), 'operator': 'not_null', 'project_id': 'idwall-data', 'dataset': 'dw_idwall', 'table_name': 'lk_time_date', 'column_name': 'id_month'} \n",
      "\n",
      "Error: {'result': False, 'raw_result': GenericGBQException('Reason: 400 GET https://www.googleapis.com/bigquery/v2/projects/idwall-data/queries/429ce1b2-3043-4cc8-9767-226f97006234?maxResults=0&timeoutMs=900&location=southamerica-east1: division by zero: 0 / 0',), 'operator': 'not_null', 'project_id': 'idwall-data', 'dataset': 'dw_idwall', 'table_name': 'lk_user_cs', 'column_name': 'email'} \n",
      "\n",
      "Error: {'result': False, 'raw_result': GenericGBQException('Reason: 400 GET https://www.googleapis.com/bigquery/v2/projects/idwall-data/queries/87cb63ba-849b-4865-a143-ad0e8c4c7eb6?maxResults=0&timeoutMs=900&location=southamerica-east1: division by zero: 0 / 0',), 'operator': 'not_null', 'project_id': 'idwall-data', 'dataset': 'dw_idwall', 'table_name': 'lk_time_day_of_week', 'column_name': 'id_day_of_week'} \n",
      "\n",
      "Error: {'result': False, 'raw_result': GenericGBQException('Reason: 400 GET https://www.googleapis.com/bigquery/v2/projects/idwall-data/queries/fab352e0-fbaf-4d9a-b791-7de2afafdd53?maxResults=0&timeoutMs=900&location=southamerica-east1: division by zero: 624644 / 0',), 'operator': 'related_to', 'project_id': 'idwall-data', 'dataset': 'dw_idwall', 'table_name': 'ft_attempts', 'column_name': 'duration'} \n",
      "\n",
      "Error: {'result': False, 'raw_result': GenericGBQException('Reason: 400 GET https://www.googleapis.com/bigquery/v2/projects/idwall-data/queries/9b8aeea1-6b22-4380-b993-57ebbf1cfddd?maxResults=0&timeoutMs=900&location=southamerica-east1: division by zero: 0 / 0',), 'operator': 'not_null', 'project_id': 'idwall-data', 'dataset': 'dw_idwall', 'table_name': 'lk_user_cs', 'column_name': 'id_user'} \n",
      "\n",
      "Error: {'result': False, 'raw_result': GenericGBQException('Reason: 400 GET https://www.googleapis.com/bigquery/v2/projects/idwall-data/queries/7f774c26-60fa-4711-8b9a-541b18b775ef?maxResults=0&timeoutMs=900&location=southamerica-east1: division by zero: 0 / 0',), 'operator': 'not_null', 'project_id': 'idwall-data', 'dataset': 'dw_idwall', 'table_name': 'ft_conversation', 'column_name': 'id_conversation'} \n"
     ]
    },
    {
     "name": "stdout",
     "output_type": "stream",
     "text": [
      "\n",
      "Error: {'result': False, 'raw_result': GenericGBQException('Reason: 400 GET https://www.googleapis.com/bigquery/v2/projects/idwall-data/queries/40f88661-84e6-45d4-8942-9bfe23561fc8?maxResults=0&timeoutMs=900&location=southamerica-east1: division by zero: 0 / 0',), 'operator': 'not_null', 'project_id': 'idwall-data', 'dataset': 'dw_idwall', 'table_name': 'lk_time_day_of_week', 'column_name': 'desc_day_of_week'} \n",
      "\n",
      "Error: {'result': False, 'raw_result': GenericGBQException('Reason: 400 GET https://www.googleapis.com/bigquery/v2/projects/idwall-data/queries/a5bd969d-9d49-46a1-8a33-d72178ada408?maxResults=0&timeoutMs=900&location=southamerica-east1: division by zero: 0 / 0',), 'operator': 'not_null', 'project_id': 'idwall-data', 'dataset': 'dw_idwall', 'table_name': 'lk_time_date', 'column_name': 'id_day_of_week'} \n",
      "\n",
      "Error: {'result': False, 'raw_result': GenericGBQException('Reason: 400 GET https://www.googleapis.com/bigquery/v2/projects/idwall-data/queries/f55df858-13f3-4ae0-8509-cce4091e15d5?maxResults=0&timeoutMs=900&location=southamerica-east1: division by zero: 0 / 0',), 'operator': 'not_null', 'project_id': 'idwall-data', 'dataset': 'dw_idwall', 'table_name': 'lk_user_cs', 'column_name': 'id_email'} \n",
      "\n",
      "Error: {'result': False, 'raw_result': GenericGBQException('Reason: 400 GET https://www.googleapis.com/bigquery/v2/projects/idwall-data/queries/bb7d01aa-4ed3-4399-86b3-1c57a7e43f65?maxResults=0&timeoutMs=900&location=southamerica-east1: division by zero: 0 / 0',), 'operator': 'not_null', 'project_id': 'idwall-data', 'dataset': 'dw_idwall', 'table_name': 'lk_time_date', 'column_name': 'id_date'} \n",
      "\n"
     ]
    }
   ],
   "source": [
    "time1 = time.time()\n",
    "tests_data = run_qa_pipeline(integration, n_workers=512)\n",
    "time2 = time.time()"
   ]
  },
  {
   "cell_type": "code",
   "execution_count": 7,
   "metadata": {},
   "outputs": [
    {
     "name": "stdout",
     "output_type": "stream",
     "text": [
      "21.856783151626587\n"
     ]
    }
   ],
   "source": [
    "print(time2 - time1)"
   ]
  },
  {
   "cell_type": "code",
   "execution_count": 8,
   "metadata": {},
   "outputs": [
    {
     "data": {
      "text/plain": [
       "(248, 9)"
      ]
     },
     "execution_count": 8,
     "metadata": {},
     "output_type": "execute_result"
    }
   ],
   "source": [
    "tests_data.shape"
   ]
  },
  {
   "cell_type": "code",
   "execution_count": 9,
   "metadata": {},
   "outputs": [
    {
     "data": {
      "text/html": [
       "<div>\n",
       "<style scoped>\n",
       "    .dataframe tbody tr th:only-of-type {\n",
       "        vertical-align: middle;\n",
       "    }\n",
       "\n",
       "    .dataframe tbody tr th {\n",
       "        vertical-align: top;\n",
       "    }\n",
       "\n",
       "    .dataframe thead th {\n",
       "        text-align: right;\n",
       "    }\n",
       "</style>\n",
       "<table border=\"1\" class=\"dataframe\">\n",
       "  <thead>\n",
       "    <tr style=\"text-align: right;\">\n",
       "      <th></th>\n",
       "      <th></th>\n",
       "      <th></th>\n",
       "      <th></th>\n",
       "      <th>not_null</th>\n",
       "      <th>lower_than</th>\n",
       "      <th>not_window_percentile_null</th>\n",
       "      <th>larger_than</th>\n",
       "      <th>not_duplicates</th>\n",
       "      <th>check_stage</th>\n",
       "      <th>related_to</th>\n",
       "      <th>not_percentile_null</th>\n",
       "      <th>timestamp_sanity</th>\n",
       "    </tr>\n",
       "    <tr>\n",
       "      <th>table_catalog</th>\n",
       "      <th>table_schema</th>\n",
       "      <th>table_name</th>\n",
       "      <th>column_name</th>\n",
       "      <th></th>\n",
       "      <th></th>\n",
       "      <th></th>\n",
       "      <th></th>\n",
       "      <th></th>\n",
       "      <th></th>\n",
       "      <th></th>\n",
       "      <th></th>\n",
       "      <th></th>\n",
       "    </tr>\n",
       "  </thead>\n",
       "  <tbody>\n",
       "    <tr>\n",
       "      <th rowspan=\"5\" valign=\"top\">idwall-data</th>\n",
       "      <th rowspan=\"5\" valign=\"top\">dw_idwall</th>\n",
       "      <th rowspan=\"5\" valign=\"top\">ft_attempts</th>\n",
       "      <th>created</th>\n",
       "      <td>True (1.0)</td>\n",
       "      <td>True (0)</td>\n",
       "      <td></td>\n",
       "      <td></td>\n",
       "      <td></td>\n",
       "      <td></td>\n",
       "      <td></td>\n",
       "      <td></td>\n",
       "      <td></td>\n",
       "    </tr>\n",
       "    <tr>\n",
       "      <th>created_date</th>\n",
       "      <td>True (1.0)</td>\n",
       "      <td>True (0)</td>\n",
       "      <td></td>\n",
       "      <td></td>\n",
       "      <td></td>\n",
       "      <td></td>\n",
       "      <td></td>\n",
       "      <td></td>\n",
       "      <td></td>\n",
       "    </tr>\n",
       "    <tr>\n",
       "      <th>created_hour</th>\n",
       "      <td>True (1.0)</td>\n",
       "      <td>False (77860)</td>\n",
       "      <td></td>\n",
       "      <td></td>\n",
       "      <td></td>\n",
       "      <td></td>\n",
       "      <td></td>\n",
       "      <td></td>\n",
       "      <td></td>\n",
       "    </tr>\n",
       "    <tr>\n",
       "      <th>duration</th>\n",
       "      <td></td>\n",
       "      <td></td>\n",
       "      <td></td>\n",
       "      <td></td>\n",
       "      <td></td>\n",
       "      <td></td>\n",
       "      <td>False (error)</td>\n",
       "      <td>True (0.0)</td>\n",
       "      <td></td>\n",
       "    </tr>\n",
       "    <tr>\n",
       "      <th>end_date</th>\n",
       "      <td></td>\n",
       "      <td></td>\n",
       "      <td></td>\n",
       "      <td>True (0)</td>\n",
       "      <td></td>\n",
       "      <td></td>\n",
       "      <td></td>\n",
       "      <td></td>\n",
       "      <td></td>\n",
       "    </tr>\n",
       "  </tbody>\n",
       "</table>\n",
       "</div>"
      ],
      "text/plain": [
       "                                                       not_null  \\\n",
       "table_catalog table_schema table_name  column_name                \n",
       "idwall-data   dw_idwall    ft_attempts created       True (1.0)   \n",
       "                                       created_date  True (1.0)   \n",
       "                                       created_hour  True (1.0)   \n",
       "                                       duration                   \n",
       "                                       end_date                   \n",
       "\n",
       "                                                        lower_than  \\\n",
       "table_catalog table_schema table_name  column_name                   \n",
       "idwall-data   dw_idwall    ft_attempts created            True (0)   \n",
       "                                       created_date       True (0)   \n",
       "                                       created_hour  False (77860)   \n",
       "                                       duration                      \n",
       "                                       end_date                      \n",
       "\n",
       "                                                    not_window_percentile_null  \\\n",
       "table_catalog table_schema table_name  column_name                               \n",
       "idwall-data   dw_idwall    ft_attempts created                                   \n",
       "                                       created_date                              \n",
       "                                       created_hour                              \n",
       "                                       duration                                  \n",
       "                                       end_date                                  \n",
       "\n",
       "                                                    larger_than  \\\n",
       "table_catalog table_schema table_name  column_name                \n",
       "idwall-data   dw_idwall    ft_attempts created                    \n",
       "                                       created_date               \n",
       "                                       created_hour               \n",
       "                                       duration                   \n",
       "                                       end_date        True (0)   \n",
       "\n",
       "                                                    not_duplicates  \\\n",
       "table_catalog table_schema table_name  column_name                   \n",
       "idwall-data   dw_idwall    ft_attempts created                       \n",
       "                                       created_date                  \n",
       "                                       created_hour                  \n",
       "                                       duration                      \n",
       "                                       end_date                      \n",
       "\n",
       "                                                    check_stage  \\\n",
       "table_catalog table_schema table_name  column_name                \n",
       "idwall-data   dw_idwall    ft_attempts created                    \n",
       "                                       created_date               \n",
       "                                       created_hour               \n",
       "                                       duration                   \n",
       "                                       end_date                   \n",
       "\n",
       "                                                        related_to  \\\n",
       "table_catalog table_schema table_name  column_name                   \n",
       "idwall-data   dw_idwall    ft_attempts created                       \n",
       "                                       created_date                  \n",
       "                                       created_hour                  \n",
       "                                       duration      False (error)   \n",
       "                                       end_date                      \n",
       "\n",
       "                                                    not_percentile_null  \\\n",
       "table_catalog table_schema table_name  column_name                        \n",
       "idwall-data   dw_idwall    ft_attempts created                            \n",
       "                                       created_date                       \n",
       "                                       created_hour                       \n",
       "                                       duration              True (0.0)   \n",
       "                                       end_date                           \n",
       "\n",
       "                                                    timestamp_sanity  \n",
       "table_catalog table_schema table_name  column_name                    \n",
       "idwall-data   dw_idwall    ft_attempts created                        \n",
       "                                       created_date                   \n",
       "                                       created_hour                   \n",
       "                                       duration                       \n",
       "                                       end_date                       "
      ]
     },
     "execution_count": 9,
     "metadata": {},
     "output_type": "execute_result"
    }
   ],
   "source": [
    "tests_data.head(5)"
   ]
  },
  {
   "cell_type": "code",
   "execution_count": null,
   "metadata": {},
   "outputs": [],
   "source": []
  },
  {
   "cell_type": "code",
   "execution_count": 10,
   "metadata": {},
   "outputs": [],
   "source": [
    "from jinja2 import Environment, FileSystemLoader, select_autoescape\n",
    "env = Environment(\n",
    "    loader=FileSystemLoader(searchpath='templates'),\n",
    "    autoescape=select_autoescape(['html', 'xml'])\n",
    ")"
   ]
  },
  {
   "cell_type": "code",
   "execution_count": null,
   "metadata": {},
   "outputs": [],
   "source": []
  },
  {
   "cell_type": "code",
   "execution_count": null,
   "metadata": {},
   "outputs": [],
   "source": []
  },
  {
   "cell_type": "markdown",
   "metadata": {},
   "source": [
    "## Schema"
   ]
  },
  {
   "cell_type": "code",
   "execution_count": 11,
   "metadata": {},
   "outputs": [],
   "source": [
    "b = metadata.reset_index()\n",
    "\n",
    "\n",
    "tbl_cols = [\"table_name\", \"table_title\", \"table_ignore\", \"table_description_text\"]\n",
    "\n",
    "\n",
    "projects_data  = b.groupby(\"table_catalog\")\n",
    "\n",
    "projects = []\n",
    "for project_name, project_data in projects_data:\n",
    "    \n",
    "    ds_data = project_data.drop(columns=\"table_catalog\").groupby(\"table_schema\")\n",
    "    datasets = []\n",
    "    \n",
    "    for ds_name, ds_group in ds_data:\n",
    "        tbl_data = ds_group.drop(columns=\"table_schema\").groupby(\"table_name\")\n",
    "        tables = []\n",
    "        for tbl_name, tbl_group in tbl_data:\n",
    "            \n",
    "            col_data = tbl_group.drop(columns=tbl_cols)\n",
    "            tbl_meta = tbl_group.iloc[0][tbl_cols].to_dict()\n",
    "            tbl_element = col_data.to_dict(orient='records')\n",
    "            \n",
    "            headers = []\n",
    "            columns = []\n",
    "            for row in tbl_element:\n",
    "                headers = row.keys()\n",
    "                columns.append(row.values())\n",
    "            \n",
    "            tables.append({**tbl_meta,\n",
    "                            'headers': headers,\n",
    "                            'columns': columns})\n",
    "            \n",
    "        datasets.append({'dataset_name': ds_name,\n",
    "                         'tables': tables})\n",
    "        \n",
    "    projects.append({'project_name': project_name,\n",
    "                     'datasets': datasets})"
   ]
  },
  {
   "cell_type": "code",
   "execution_count": 12,
   "metadata": {},
   "outputs": [],
   "source": [
    "template = env.get_template('metadata.html')\n",
    "\n",
    "with open(\"a.html\", \"w\") as fid:\n",
    "    fid.write(template.render(projects=projects))"
   ]
  },
  {
   "cell_type": "markdown",
   "metadata": {},
   "source": [
    "## Tests report"
   ]
  },
  {
   "cell_type": "code",
   "execution_count": 13,
   "metadata": {},
   "outputs": [],
   "source": [
    "failed_cells = tests_data.applymap(lambda x: \"False\" in x).astype(bool)"
   ]
  },
  {
   "cell_type": "code",
   "execution_count": 14,
   "metadata": {},
   "outputs": [],
   "source": [
    "success_cells = tests_data.applymap(lambda x: \"True\" in x).astype(bool)"
   ]
  },
  {
   "cell_type": "code",
   "execution_count": 15,
   "metadata": {},
   "outputs": [],
   "source": [
    "failed_rows = failed_cells.sum(axis=1).astype(bool)"
   ]
  },
  {
   "cell_type": "code",
   "execution_count": 16,
   "metadata": {},
   "outputs": [],
   "source": [
    "success_rows = success_cells.sum(axis=1).astype(bool)"
   ]
  },
  {
   "cell_type": "code",
   "execution_count": 17,
   "metadata": {},
   "outputs": [
    {
     "data": {
      "text/html": [
       "<div>\n",
       "<style scoped>\n",
       "    .dataframe tbody tr th:only-of-type {\n",
       "        vertical-align: middle;\n",
       "    }\n",
       "\n",
       "    .dataframe tbody tr th {\n",
       "        vertical-align: top;\n",
       "    }\n",
       "\n",
       "    .dataframe thead th {\n",
       "        text-align: right;\n",
       "    }\n",
       "</style>\n",
       "<table border=\"1\" class=\"dataframe\">\n",
       "  <thead>\n",
       "    <tr style=\"text-align: right;\">\n",
       "      <th></th>\n",
       "      <th></th>\n",
       "      <th></th>\n",
       "      <th></th>\n",
       "      <th>0</th>\n",
       "    </tr>\n",
       "    <tr>\n",
       "      <th>table_catalog</th>\n",
       "      <th>table_schema</th>\n",
       "      <th>table_name</th>\n",
       "      <th>column_name</th>\n",
       "      <th></th>\n",
       "    </tr>\n",
       "  </thead>\n",
       "  <tbody>\n",
       "    <tr>\n",
       "      <th rowspan=\"5\" valign=\"top\">idwall-data</th>\n",
       "      <th rowspan=\"5\" valign=\"top\">dw_idwall</th>\n",
       "      <th rowspan=\"5\" valign=\"top\">ft_attempts</th>\n",
       "      <th>created</th>\n",
       "      <td></td>\n",
       "    </tr>\n",
       "    <tr>\n",
       "      <th>created_date</th>\n",
       "      <td></td>\n",
       "    </tr>\n",
       "    <tr>\n",
       "      <th>created_hour</th>\n",
       "      <td>False (77860)</td>\n",
       "    </tr>\n",
       "    <tr>\n",
       "      <th>duration</th>\n",
       "      <td>False (error)</td>\n",
       "    </tr>\n",
       "    <tr>\n",
       "      <th>end_date</th>\n",
       "      <td></td>\n",
       "    </tr>\n",
       "  </tbody>\n",
       "</table>\n",
       "</div>"
      ],
      "text/plain": [
       "                                                                 0\n",
       "table_catalog table_schema table_name  column_name                \n",
       "idwall-data   dw_idwall    ft_attempts created                    \n",
       "                                       created_date               \n",
       "                                       created_hour  False (77860)\n",
       "                                       duration      False (error)\n",
       "                                       end_date                   "
      ]
     },
     "execution_count": 17,
     "metadata": {},
     "output_type": "execute_result"
    }
   ],
   "source": [
    "failed_cells_2 = tests_data.copy()\n",
    "failed_cells_2[~failed_cells] = \"\"\n",
    "pd.DataFrame(failed_cells_2.apply(lambda x: x.str.cat(), axis=1)).head(5)"
   ]
  },
  {
   "cell_type": "code",
   "execution_count": 18,
   "metadata": {},
   "outputs": [],
   "source": [
    "def fail_function(row):\n",
    "    return \" | \".join(row.loc[row].index)"
   ]
  },
  {
   "cell_type": "code",
   "execution_count": 19,
   "metadata": {},
   "outputs": [],
   "source": [
    "failed_table = (pd.DataFrame(failed_cells.apply(fail_function, axis=1))\n",
    "                                         .rename(columns={0: \"failed_asserts\"})\n",
    "                                         .where(lambda x: x[\"failed_asserts\"] != \"\")\n",
    "                                         .dropna())"
   ]
  },
  {
   "cell_type": "code",
   "execution_count": 20,
   "metadata": {},
   "outputs": [],
   "source": [
    "success_table = (pd.DataFrame(success_cells.apply(fail_function, axis=1))\n",
    "                                         .rename(columns={0: \"ok_asserts\"})\n",
    "                                         .where(lambda x: x[\"ok_asserts\"] != \"\")\n",
    "                                         .dropna())"
   ]
  },
  {
   "cell_type": "code",
   "execution_count": 21,
   "metadata": {},
   "outputs": [],
   "source": [
    "new_table = success_table.join(failed_table).fillna(\"\")"
   ]
  },
  {
   "cell_type": "code",
   "execution_count": 22,
   "metadata": {},
   "outputs": [],
   "source": [
    "failed_dataset = failed_table.groupby([\"table_schema\", \"table_name\"]).count()"
   ]
  },
  {
   "cell_type": "code",
   "execution_count": 23,
   "metadata": {},
   "outputs": [
    {
     "data": {
      "text/plain": [
       "<pandas.core.groupby.generic.DataFrameGroupBy object at 0x7f91527ea048>"
      ]
     },
     "execution_count": 23,
     "metadata": {},
     "output_type": "execute_result"
    }
   ],
   "source": [
    "failed_table.groupby(\"table_name\")"
   ]
  },
  {
   "cell_type": "code",
   "execution_count": 24,
   "metadata": {},
   "outputs": [],
   "source": [
    "tables_summary = []\n",
    "\n"
   ]
  },
  {
   "cell_type": "code",
   "execution_count": 25,
   "metadata": {},
   "outputs": [],
   "source": [
    "projects = []\n",
    "for proj_name, proj_group in new_table.groupby([\"table_catalog\"]):\n",
    "    datasets = []\n",
    "    for ds_name, ds_group in new_table.groupby([\"table_schema\"]):\n",
    "        tables = []\n",
    "        ds_error_count = ds_group.where(lambda x: x[\"failed_asserts\"] != \"\").count().values[0]\n",
    "        for table_name, table_group in new_table.groupby([\"table_name\"]):\n",
    "            table_summary = table_group.droplevel([0, 1, 2]).reset_index()\n",
    "            headers = table_summary.columns.tolist()\n",
    "            columns = table_summary.values.tolist()\n",
    "            table_name = table_name\n",
    "            table_error_count = table_group.where(lambda x: x[\"failed_asserts\"] != \"\").count().values[0]\n",
    "            tables.append({\"table_name\": table_name, \n",
    "                           \"error_count\": str(table_error_count),\n",
    "                           \"headers\": headers, \n",
    "                           \"columns\": columns})\n",
    "        datasets.append({\"dataset_name\": ds_name,\n",
    "                         \"error_count\": str(ds_error_count),\n",
    "                         \"tables\": tables})\n",
    "    projects.append({\"project_name\": proj_name, \"datasets\": datasets})"
   ]
  },
  {
   "cell_type": "code",
   "execution_count": 26,
   "metadata": {},
   "outputs": [],
   "source": [
    "template = env.get_template('metadata.html')\n",
    "with open(\"b.html\", \"w\") as fid:\n",
    "    fid.write(template.render(projects=projects))"
   ]
  },
  {
   "cell_type": "code",
   "execution_count": null,
   "metadata": {},
   "outputs": [],
   "source": []
  },
  {
   "cell_type": "code",
   "execution_count": 27,
   "metadata": {},
   "outputs": [
    {
     "data": {
      "text/plain": [
       "'dw_idwall'"
      ]
     },
     "execution_count": 27,
     "metadata": {},
     "output_type": "execute_result"
    }
   ],
   "source": [
    "projects[0][\"datasets\"][0][\"dataset_name\"]"
   ]
  },
  {
   "cell_type": "code",
   "execution_count": 28,
   "metadata": {},
   "outputs": [
    {
     "data": {
      "text/plain": [
       "'13'"
      ]
     },
     "execution_count": 28,
     "metadata": {},
     "output_type": "execute_result"
    }
   ],
   "source": [
    "projects[0][\"datasets\"][0][\"error_count\"]"
   ]
  },
  {
   "cell_type": "code",
   "execution_count": null,
   "metadata": {},
   "outputs": [],
   "source": []
  }
 ],
 "metadata": {
  "kernelspec": {
   "display_name": "Python 3",
   "language": "python",
   "name": "python3"
  },
  "language_info": {
   "codemirror_mode": {
    "name": "ipython",
    "version": 3
   },
   "file_extension": ".py",
   "mimetype": "text/x-python",
   "name": "python",
   "nbconvert_exporter": "python",
   "pygments_lexer": "ipython3",
   "version": "3.6.8"
  }
 },
 "nbformat": 4,
 "nbformat_minor": 2
}
