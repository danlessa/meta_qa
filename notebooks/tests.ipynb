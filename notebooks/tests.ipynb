{
 "cells": [
  {
   "cell_type": "code",
   "execution_count": 1,
   "metadata": {},
   "outputs": [],
   "source": [
    "import sys\n",
    "sys.path.append(\"..\")\n"
   ]
  },
  {
   "cell_type": "code",
   "execution_count": 2,
   "metadata": {},
   "outputs": [],
   "source": [
    "import time\n",
    "import pickle as pkl\n",
    "import numpy as np\n",
    "import pandas as pd"
   ]
  },
  {
   "cell_type": "code",
   "execution_count": 13,
   "metadata": {},
   "outputs": [
    {
     "name": "stdout",
     "output_type": "stream",
     "text": [
      "New pandarallel memory created - Size: 2000 MB\n",
      "Pandarallel will run on 256 workers\n"
     ]
    }
   ],
   "source": [
    "from pandarallel import pandarallel\n",
    "pandarallel.initialize(nb_workers=256)"
   ]
  },
  {
   "cell_type": "code",
   "execution_count": 14,
   "metadata": {},
   "outputs": [],
   "source": [
    "import meta_qa"
   ]
  },
  {
   "cell_type": "code",
   "execution_count": 15,
   "metadata": {},
   "outputs": [],
   "source": [
    "from meta_qa.integrations import BigQueryIntegration\n",
    "from meta_qa.integrations import BigQueryColumnOperators"
   ]
  },
  {
   "cell_type": "code",
   "execution_count": 16,
   "metadata": {},
   "outputs": [],
   "source": [
    "project_id = \"idwall-data\"\n",
    "dataset = \"dw_idwall\""
   ]
  },
  {
   "cell_type": "code",
   "execution_count": 17,
   "metadata": {},
   "outputs": [],
   "source": [
    "bqi = BigQueryIntegration(project_id, dataset)"
   ]
  },
  {
   "cell_type": "code",
   "execution_count": 18,
   "metadata": {},
   "outputs": [],
   "source": [
    "def apply_operators(row):\n",
    "    \"\"\"\n",
    "    Applies the associated column functions for an given database column\n",
    "    \"\"\"\n",
    "    table_name = row.name[-2]\n",
    "    column_name = row.name[-1]    \n",
    "    operator = bqi.column_operators(project_id,\n",
    "                                    dataset,\n",
    "                                    table_name,\n",
    "                                    column_name)\n",
    "    return row.map(operator.function)\n",
    "\n",
    "\n",
    "def run_qa_operators(tasks):\n",
    "    \"\"\"\n",
    "    Apply the QA operators on an tasks dataset, from self.get_tasks.\n",
    "    \"\"\"\n",
    "    # Apply the QA functions associated with each column\n",
    "    pipeline_out = tasks.parallel_apply(apply_operators, axis=1)\n",
    "    \n",
    "    # Wrangle the data for having something more intuitive\n",
    "    pipeline_stack = pipeline_out.stack().droplevel(-1)\n",
    "    operators = pipeline_stack.apply(lambda x: x[\"operator\"])\n",
    "    unique_ops = operators.values.flatten()\n",
    "    unique_ops = unique_ops[unique_ops != None]\n",
    "    unique_ops = np.unique(unique_ops)\n",
    "    output = []\n",
    "    for operator in operators.unique():\n",
    "        operator_results = (pd.DataFrame(pipeline_stack.where(operators == operator)\n",
    "                                    .dropna()).assign(operator=operator)\n",
    "                                              .set_index(\"operator\", append=True)\n",
    "                                              .rename(columns={0: \"result_object\"})\n",
    "                                              .unstack())\n",
    "        operator_results.columns = [operator]\n",
    "        output.append(operator_results)\n",
    "    pipeline_result = pd.concat(output, sort=False, axis=1)\n",
    "    return pipeline_result\n",
    "\n",
    "\n",
    "def beautify_pipeline_cell(cell):\n",
    "    \"\"\"\n",
    "    Transforms the QA pipeline elements into something more human readable.\n",
    "    \"\"\"\n",
    "    nice_result = \"\"\n",
    "    if type(cell) is dict:\n",
    "        raw_result = cell[\"raw_result\"]\n",
    "        if issubclass(type(raw_result), Exception):\n",
    "            parenthesis = \"error\"\n",
    "        else:\n",
    "            parenthesis = raw_result\n",
    "        nice_result = \"{} ({})\".format(cell[\"result\"], parenthesis)\n",
    "    return nice_result\n",
    "\n",
    "\n",
    "def run_qa_pipeline(bqi):\n",
    "    metadata = bqi.get_metadata()\n",
    "    tasks = bqi.get_tasks(metadata)\n",
    "    pipeline_result = run_qa_operators(tasks)\n",
    "    return pipeline_result.applymap(beautify_pipeline_cell)"
   ]
  },
  {
   "cell_type": "code",
   "execution_count": 19,
   "metadata": {},
   "outputs": [
    {
     "name": "stdout",
     "output_type": "stream",
     "text": [
      "Error: {'result': False, 'raw_result': GenericGBQException('Reason: 400 No matching signature for operator < for argument types: BOOL, STRING. Supported signatures: ANY < ANY at [4:15]',), 'operator': 'not_window_percentile_null', 'project_id': 'idwall-data', 'dataset': 'dw_idwall', 'table_name': 'ft_bpo_services', 'column_name': 'sla_result'} \n",
      "\n",
      "Error: {'result': False, 'raw_result': GenericGBQException('Reason: 400 No matching signature for operator < for argument types: INT64, STRING. Supported signatures: ANY < ANY at [4:15]',), 'operator': 'not_window_percentile_null', 'project_id': 'idwall-data', 'dataset': 'dw_idwall', 'table_name': 'ft_bpo_operations', 'column_name': 'time_seconds'} \n",
      "\n",
      "Error: {'result': False, 'raw_result': GenericGBQException('Reason: 400 Name id_user not found inside t2 at [4:80]',), 'operator': 'related_to', 'project_id': 'idwall-data', 'dataset': 'dw_idwall', 'table_name': 'ft_bpo_operations', 'column_name': 'id_user'} \n",
      "\n",
      "Error: {'result': False, 'raw_result': GenericGBQException('Reason: 400 No matching signature for operator < for argument types: INT64, STRING. Supported signatures: ANY < ANY at [4:15]',), 'operator': 'not_window_percentile_null', 'project_id': 'idwall-data', 'dataset': 'dw_idwall', 'table_name': 'ft_bpo_services', 'column_name': 'sla_total'} \n",
      "Error: {'result': False, 'raw_result': GenericGBQException('Reason: 400 No matching signature for operator < for argument types: INT64, STRING. Supported signatures: ANY < ANY at [4:15]',), 'operator': 'not_window_percentile_null', 'project_id': 'idwall-data', 'dataset': 'dw_idwall', 'table_name': 'ft_bpo_services', 'column_name': 'sla_digit'} \n",
      "Error: {'result': False, 'raw_result': GenericGBQException('Reason: 400 Name id_action_bpo_end not found inside t2 at [4:92]',), 'operator': 'related_to', 'project_id': 'idwall-data', 'dataset': 'dw_idwall', 'table_name': 'ft_bpo_operations', 'column_name': 'id_action_bpo_end'} \n",
      "\n",
      "\n",
      "\n",
      "Error: {'result': False, 'raw_result': GenericGBQException('Reason: 404 Not found: Table idwall-data:dw_idwall.lk_pipeline_stage_hubspot was not found in location southamerica-east1',), 'operator': 'related_to', 'project_id': 'idwall-data', 'dataset': 'dw_idwall', 'table_name': 'lk_pipeline_stage', 'column_name': 'id_pipeline_stage_hubspot'} \n",
      "Error: {'result': False, 'raw_result': GenericGBQException('Reason: 400 GET https://www.googleapis.com/bigquery/v2/projects/idwall-data/queries/580c4d54-2bfa-43ac-a5d5-0dbf2b233744?maxResults=0&timeoutMs=900&location=southamerica-east1: division by zero: 0 / 0',), 'operator': 'not_duplicates', 'project_id': 'idwall-data', 'dataset': 'dw_idwall', 'table_name': 'ft_conversation', 'column_name': 'id_conversation'} \n",
      "\n",
      "\n",
      "Error: {'result': False, 'raw_result': GenericGBQException('Reason: 400 No matching signature for operator < for argument types: INT64, STRING. Supported signatures: ANY < ANY at [4:15]',), 'operator': 'not_window_percentile_null', 'project_id': 'idwall-data', 'dataset': 'dw_idwall', 'table_name': 'ft_bpo_services', 'column_name': 'sla_doc'} \n",
      "\n",
      "Error: {'result': False, 'raw_result': GenericGBQException('Reason: 400 GET https://www.googleapis.com/bigquery/v2/projects/idwall-data/queries/4718f843-2979-4dfa-9315-22464b68dda1?maxResults=0&timeoutMs=900&location=southamerica-east1: division by zero: 0 / 0',), 'operator': 'not_null', 'project_id': 'idwall-data', 'dataset': 'dw_idwall', 'table_name': 'lk_time_date', 'column_name': 'id_day_of_week'} \n",
      "\n",
      "Error: {'result': False, 'raw_result': GenericGBQException('Reason: 400 GET https://www.googleapis.com/bigquery/v2/projects/idwall-data/queries/c4891a1d-06f4-4090-a161-86fa96d24795?maxResults=0&timeoutMs=900&location=southamerica-east1: division by zero: 0 / 0',), 'operator': 'not_null', 'project_id': 'idwall-data', 'dataset': 'dw_idwall', 'table_name': 'lk_time_date', 'column_name': 'desc_date'} \n",
      "\n",
      "Error: {'result': False, 'raw_result': GenericGBQException('Reason: 400 GET https://www.googleapis.com/bigquery/v2/projects/idwall-data/queries/fa7e60d2-e09c-42bf-ba9b-d1143eff768a?maxResults=0&timeoutMs=900&location=southamerica-east1: division by zero: 0 / 0',), 'operator': 'not_null', 'project_id': 'idwall-data', 'dataset': 'dw_idwall', 'table_name': 'lk_time_date', 'column_name': 'id_month'} \n",
      "\n",
      "Error: {'result': False, 'raw_result': GenericGBQException('Reason: 400 GET https://www.googleapis.com/bigquery/v2/projects/idwall-data/queries/ef22e6a8-ff92-4ea6-834c-746efa215b0b?maxResults=0&timeoutMs=900&location=southamerica-east1: division by zero: 0 / 0',), 'operator': 'not_null', 'project_id': 'idwall-data', 'dataset': 'dw_idwall', 'table_name': 'lk_time_day_of_week', 'column_name': 'id_day_of_week'} \n",
      "\n",
      "Error: {'result': False, 'raw_result': GenericGBQException('Reason: 400 GET https://www.googleapis.com/bigquery/v2/projects/idwall-data/queries/8524f95d-a1cd-42de-b0b2-bbe87b815660?maxResults=0&timeoutMs=900&location=southamerica-east1: division by zero: 0 / 0',), 'operator': 'not_null', 'project_id': 'idwall-data', 'dataset': 'dw_idwall', 'table_name': 'lk_time_day_of_week', 'column_name': 'abrev_day_of_week'} \n",
      "\n",
      "Error: {'result': False, 'raw_result': GenericGBQException('Reason: 400 GET https://www.googleapis.com/bigquery/v2/projects/idwall-data/queries/c8c6b3e9-53e1-42b5-acf7-132f864518a7?maxResults=0&timeoutMs=900&location=southamerica-east1: division by zero: 0 / 0',), 'operator': 'not_null', 'project_id': 'idwall-data', 'dataset': 'dw_idwall', 'table_name': 'lk_user_cs', 'column_name': 'id_user'} \n",
      "\n",
      "Error: {'result': False, 'raw_result': GenericGBQException('Reason: 400 GET https://www.googleapis.com/bigquery/v2/projects/idwall-data/queries/4efafc7e-4129-4f8e-b146-2489bf66c70d?maxResults=0&timeoutMs=900&location=southamerica-east1: division by zero: 0 / 0',), 'operator': 'not_null', 'project_id': 'idwall-data', 'dataset': 'dw_idwall', 'table_name': 'ft_conversation', 'column_name': 'id_conversation'} \n",
      "\n",
      "Error: {'result': False, 'raw_result': GenericGBQException('Reason: 400 GET https://www.googleapis.com/bigquery/v2/projects/idwall-data/queries/7fe7b274-99f7-40dc-bf8c-f4330231c71c?maxResults=0&timeoutMs=900&location=southamerica-east1: division by zero: 0 / 0',), 'operator': 'not_null', 'project_id': 'idwall-data', 'dataset': 'dw_idwall', 'table_name': 'lk_user_cs', 'column_name': 'id_email'} \n",
      "\n",
      "Error: {'result': False, 'raw_result': GenericGBQException('Reason: 400 No matching signature for operator < for argument types: INT64, STRING. Supported signatures: ANY < ANY at [4:15]',), 'operator': 'not_window_percentile_null', 'project_id': 'idwall-data', 'dataset': 'dw_idwall', 'table_name': 'ft_bpo_operations', 'column_name': 'end_operation_hour'} \n",
      "\n",
      "Error: {'result': False, 'raw_result': GenericGBQException('Reason: 400 GET https://www.googleapis.com/bigquery/v2/projects/idwall-data/queries/f456ec4d-e4ee-41e3-9a6f-b22793da49a8?maxResults=0&timeoutMs=900&location=southamerica-east1: division by zero: 0 / 0',), 'operator': 'not_null', 'project_id': 'idwall-data', 'dataset': 'dw_idwall', 'table_name': 'lk_time_date', 'column_name': 'id_date'} \n",
      "\n",
      "Error: {'result': False, 'raw_result': GenericGBQException('Reason: 400 GET https://www.googleapis.com/bigquery/v2/projects/idwall-data/queries/f4188f82-ccf3-4641-b4a2-00ebd9dfe096?maxResults=0&timeoutMs=900&location=southamerica-east1: division by zero: 0 / 0',), 'operator': 'not_null', 'project_id': 'idwall-data', 'dataset': 'dw_idwall', 'table_name': 'lk_time_day_of_week', 'column_name': 'desc_day_of_week'} \n",
      "\n",
      "Error: {'result': False, 'raw_result': GenericGBQException('Reason: 400 GET https://www.googleapis.com/bigquery/v2/projects/idwall-data/queries/2741f41e-1adf-45eb-ba39-3a216460e2f6?maxResults=0&timeoutMs=900&location=southamerica-east1: division by zero: 0 / 0',), 'operator': 'not_null', 'project_id': 'idwall-data', 'dataset': 'dw_idwall', 'table_name': 'lk_user_cs', 'column_name': 'email'} \n",
      "\n",
      "Error: {'result': False, 'raw_result': GenericGBQException('Reason: 400 GET https://www.googleapis.com/bigquery/v2/projects/idwall-data/queries/ba953c4b-c0f6-4575-b31d-8263f4651637?maxResults=0&timeoutMs=900&location=southamerica-east1: division by zero: 0 / 0',), 'operator': 'not_null', 'project_id': 'idwall-data', 'dataset': 'dw_idwall', 'table_name': 'lk_time_date', 'column_name': 'id_year'} \n"
     ]
    },
    {
     "name": "stdout",
     "output_type": "stream",
     "text": [
      "\n",
      "Error: {'result': False, 'raw_result': GenericGBQException('Reason: 400 GET https://www.googleapis.com/bigquery/v2/projects/idwall-data/queries/f01c3449-854f-474f-8368-fa122175b0b6?maxResults=0&timeoutMs=900&location=southamerica-east1: division by zero: 0 / 0',), 'operator': 'not_null', 'project_id': 'idwall-data', 'dataset': 'dw_idwall', 'table_name': 'lk_user_cs', 'column_name': 'desc_user'} \n",
      "\n",
      "Error: {'result': False, 'raw_result': GenericGBQException('Reason: 400 Name id_status_field_audit not found inside t2 at [4:98]',), 'operator': 'related_to', 'project_id': 'idwall-data', 'dataset': 'dw_idwall', 'table_name': 'ft_bpo_fields', 'column_name': 'id_status_field_audit'} \n",
      "\n",
      "Error: {'result': False, 'raw_result': GenericGBQException('Reason: 400 GET https://www.googleapis.com/bigquery/v2/projects/idwall-data/queries/f5aa414c-f96c-4dfb-9dd7-4356710d556a?maxResults=0&timeoutMs=900&location=southamerica-east1: division by zero: 3846 / 0',), 'operator': 'related_to', 'project_id': 'idwall-data', 'dataset': 'dw_idwall', 'table_name': 'ft_conversation_detail', 'column_name': 'id_conversation'} \n",
      "\n",
      "Error: {'result': False, 'raw_result': GenericGBQException('Reason: 400 GET https://www.googleapis.com/bigquery/v2/projects/idwall-data/queries/39d51c71-95f7-4f12-b613-0a10a24076e5?maxResults=0&timeoutMs=900&location=southamerica-east1: division by zero: 622455 / 0',), 'operator': 'related_to', 'project_id': 'idwall-data', 'dataset': 'dw_idwall', 'table_name': 'ft_attempts', 'column_name': 'duration'} \n",
      "\n",
      "22.68725824356079\n"
     ]
    }
   ],
   "source": [
    "tim1 = time.time()\n",
    "out = run_qa_pipeline(bqi)\n",
    "tim2 = time.time()\n",
    "print(tim2 - tim1)"
   ]
  },
  {
   "cell_type": "code",
   "execution_count": 28,
   "metadata": {},
   "outputs": [],
   "source": [
    "convert = lambda x: \"lk_\" + \"_\".join(x.split(\"_\")[1:])"
   ]
  },
  {
   "cell_type": "code",
   "execution_count": 29,
   "metadata": {},
   "outputs": [
    {
     "data": {
      "text/plain": [
       "'lk_attempt_message_type'"
      ]
     },
     "execution_count": 29,
     "metadata": {},
     "output_type": "execute_result"
    }
   ],
   "source": [
    "convert(\"id_attempt_message_type\")"
   ]
  },
  {
   "cell_type": "code",
   "execution_count": null,
   "metadata": {},
   "outputs": [],
   "source": []
  }
 ],
 "metadata": {
  "kernelspec": {
   "display_name": "Python 3",
   "language": "python",
   "name": "python3"
  },
  "language_info": {
   "codemirror_mode": {
    "name": "ipython",
    "version": 3
   },
   "file_extension": ".py",
   "mimetype": "text/x-python",
   "name": "python",
   "nbconvert_exporter": "python",
   "pygments_lexer": "ipython3",
   "version": "3.6.8"
  }
 },
 "nbformat": 4,
 "nbformat_minor": 2
}
